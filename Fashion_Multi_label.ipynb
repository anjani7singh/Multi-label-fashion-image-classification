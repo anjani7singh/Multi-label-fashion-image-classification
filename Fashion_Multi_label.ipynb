{
  "nbformat": 4,
  "nbformat_minor": 0,
  "metadata": {
    "kernelspec": {
      "name": "python3",
      "display_name": "Python 3"
    },
    "language_info": {
      "codemirror_mode": {
        "name": "ipython",
        "version": 3
      },
      "file_extension": ".py",
      "mimetype": "text/x-python",
      "name": "python",
      "nbconvert_exporter": "python",
      "pygments_lexer": "ipython3",
      "version": "3.6.8"
    },
    "colab": {
      "name": "Fashion_Multi-label.ipynb",
      "version": "0.3.2",
      "provenance": [],
      "collapsed_sections": [],
      "machine_shape": "hm",
      "include_colab_link": true
    },
    "accelerator": "TPU"
  },
  "cells": [
    {
      "cell_type": "markdown",
      "metadata": {
        "id": "view-in-github",
        "colab_type": "text"
      },
      "source": [
        "<a href=\"https://colab.research.google.com/github/anjani7singh/Multi-label-fashion-image-classification/blob/master/Fashion_Multi_label.ipynb\" target=\"_parent\"><img src=\"https://colab.research.google.com/assets/colab-badge.svg\" alt=\"Open In Colab\"/></a>"
      ]
    },
    {
      "cell_type": "code",
      "metadata": {
        "id": "vODGUkTTeBO7",
        "colab_type": "code",
        "outputId": "4d6d6845-fb34-41bb-968f-bfa9ced10639",
        "colab": {
          "base_uri": "https://localhost:8080/",
          "height": 128
        }
      },
      "source": [
        "import pandas as pd\n",
        "import numpy as np\n",
        "import os\n",
        "from google.colab import drive\n",
        "drive.mount('/content/drive')"
      ],
      "execution_count": 0,
      "outputs": [
        {
          "output_type": "stream",
          "text": [
            "Go to this URL in a browser: https://accounts.google.com/o/oauth2/auth?client_id=947318989803-6bn6qk8qdgf4n4g3pfee6491hc0brc4i.apps.googleusercontent.com&redirect_uri=urn%3Aietf%3Awg%3Aoauth%3A2.0%3Aoob&scope=email%20https%3A%2F%2Fwww.googleapis.com%2Fauth%2Fdocs.test%20https%3A%2F%2Fwww.googleapis.com%2Fauth%2Fdrive%20https%3A%2F%2Fwww.googleapis.com%2Fauth%2Fdrive.photos.readonly%20https%3A%2F%2Fwww.googleapis.com%2Fauth%2Fpeopleapi.readonly&response_type=code\n",
            "\n",
            "Enter your authorization code:\n",
            "··········\n",
            "Mounted at /content/drive\n"
          ],
          "name": "stdout"
        }
      ]
    },
    {
      "cell_type": "code",
      "metadata": {
        "id": "qCSIEzz5QQ7w",
        "colab_type": "code",
        "outputId": "f0b31af1-0ed8-4592-e00a-b6b536bf114b",
        "colab": {
          "base_uri": "https://localhost:8080/",
          "height": 35
        }
      },
      "source": [
        "len(label_id)"
      ],
      "execution_count": 0,
      "outputs": [
        {
          "output_type": "execute_result",
          "data": {
            "text/plain": [
              "246"
            ]
          },
          "metadata": {
            "tags": []
          },
          "execution_count": 9
        }
      ]
    },
    {
      "cell_type": "code",
      "metadata": {
        "id": "05Zgn7SFeJX9",
        "colab_type": "code",
        "colab": {}
      },
      "source": [
        "#Unzip the data:\n",
        "import zipfile\n",
        "zip = zipfile.ZipFile('/content/drive/My Drive/Image_1.zip')\n",
        "zip.extractall()\n",
        "zip = zipfile.ZipFile('/content/Image_1/Data.zip')\n",
        "zip.extractall()\n"
      ],
      "execution_count": 0,
      "outputs": []
    },
    {
      "cell_type": "code",
      "metadata": {
        "id": "jdNvwuvceBPl",
        "colab_type": "code",
        "colab": {}
      },
      "source": [
        "#Loading the labels and removing missing images:\n",
        "train=pd.read_csv('/content/Image_1/Input/train_labels.csv')\n",
        "dirimg=\"/content/Data/train/\"\n",
        "tempi = []\n",
        "#get all the present images:\n",
        "for file in os.listdir(dirimg):\n",
        "    fl =  file\n",
        "    tempi.append(fl)\n",
        "# remove missing images information:\n",
        "present=[]\n",
        "for i in range(len(tempi)):\n",
        "    idn=tempi[i].split('.')\n",
        "    present.append(idn[0])     \n",
        "present = list(map(int, present))\n",
        "\n",
        "missing=[]\n",
        "img_id=train['imageId']\n",
        "for i in img_id:\n",
        "    if i not in present:\n",
        "        missing.append(i)\n",
        "\n",
        "for k in range(len(missing)):\n",
        "    train=train[train.imageId!=missing[k]]"
      ],
      "execution_count": 0,
      "outputs": []
    },
    {
      "cell_type": "code",
      "metadata": {
        "id": "wKuSqiNjSCaN",
        "colab_type": "code",
        "outputId": "80d6d4a8-4a38-484a-db5c-32bd6edb298b",
        "colab": {
          "base_uri": "https://localhost:8080/",
          "height": 198
        }
      },
      "source": [
        "train=pd.read_csv('./new.csv')\n",
        "train.head()\n"
      ],
      "execution_count": 0,
      "outputs": [
        {
          "output_type": "execute_result",
          "data": {
            "text/html": [
              "<div>\n",
              "<style scoped>\n",
              "    .dataframe tbody tr th:only-of-type {\n",
              "        vertical-align: middle;\n",
              "    }\n",
              "\n",
              "    .dataframe tbody tr th {\n",
              "        vertical-align: top;\n",
              "    }\n",
              "\n",
              "    .dataframe thead th {\n",
              "        text-align: right;\n",
              "    }\n",
              "</style>\n",
              "<table border=\"1\" class=\"dataframe\">\n",
              "  <thead>\n",
              "    <tr style=\"text-align: right;\">\n",
              "      <th></th>\n",
              "      <th>labelId</th>\n",
              "      <th>imageId</th>\n",
              "    </tr>\n",
              "  </thead>\n",
              "  <tbody>\n",
              "    <tr>\n",
              "      <th>0</th>\n",
              "      <td>[u'95', u'66', u'137', u'70', u'20']</td>\n",
              "      <td>1</td>\n",
              "    </tr>\n",
              "    <tr>\n",
              "      <th>1</th>\n",
              "      <td>[u'36', u'66', u'44', u'214', u'105', u'133']</td>\n",
              "      <td>2</td>\n",
              "    </tr>\n",
              "    <tr>\n",
              "      <th>2</th>\n",
              "      <td>[u'170', u'66', u'97', u'153', u'105', u'138']</td>\n",
              "      <td>3</td>\n",
              "    </tr>\n",
              "    <tr>\n",
              "      <th>3</th>\n",
              "      <td>[u'18', u'66', u'44', u'153', u'164']</td>\n",
              "      <td>4</td>\n",
              "    </tr>\n",
              "    <tr>\n",
              "      <th>4</th>\n",
              "      <td>[u'189', u'66', u'176', u'137', u'153', u'74',...</td>\n",
              "      <td>5</td>\n",
              "    </tr>\n",
              "  </tbody>\n",
              "</table>\n",
              "</div>"
            ],
            "text/plain": [
              "                                             labelId  imageId\n",
              "0               [u'95', u'66', u'137', u'70', u'20']        1\n",
              "1      [u'36', u'66', u'44', u'214', u'105', u'133']        2\n",
              "2     [u'170', u'66', u'97', u'153', u'105', u'138']        3\n",
              "3              [u'18', u'66', u'44', u'153', u'164']        4\n",
              "4  [u'189', u'66', u'176', u'137', u'153', u'74',...        5"
            ]
          },
          "metadata": {
            "tags": []
          },
          "execution_count": 3
        }
      ]
    },
    {
      "cell_type": "code",
      "metadata": {
        "id": "xEfkJXlDwkjf",
        "colab_type": "code",
        "outputId": "a70e02de-39e2-443c-cad2-7f64ec3fb804",
        "colab": {
          "base_uri": "https://localhost:8080/",
          "height": 74
        }
      },
      "source": [
        "from keras.preprocessing.text import Tokenizer\n",
        "from keras.utils import np_utils\n",
        "labels=train['labelId']\n",
        "tokenizer = Tokenizer(filters=',[]')\n",
        "tokenizer.fit_on_texts(labels)\n",
        "label_seq = tokenizer.texts_to_sequences(labels)\n",
        "label_length=len(tokenizer.word_index)+1\n",
        "print(tokenizer.word_index)\n",
        "labels=[np_utils.to_categorical(label,num_classes=label_length,dtype='float32').sum(axis=0)[1:] for label in label_seq]"
      ],
      "execution_count": 0,
      "outputs": [
        {
          "output_type": "stream",
          "text": [
            "Using TensorFlow backend.\n"
          ],
          "name": "stderr"
        },
        {
          "output_type": "stream",
          "text": [
            "{\"u'66'\": 1, \"u'105'\": 2, \"u'153'\": 3, \"u'17'\": 4, \"u'171'\": 5, \"u'106'\": 6, \"u'214'\": 7, \"u'138'\": 8, \"u'222'\": 9, \"u'62'\": 10, \"u'53'\": 11, \"u'137'\": 12, \"u'20'\": 13, \"u'98'\": 14, \"u'19'\": 15, \"u'176'\": 16, \"u'164'\": 17, \"u'148'\": 18, \"u'44'\": 19, \"u'49'\": 20, \"u'113'\": 21, \"u'36'\": 22, \"u'184'\": 23, \"u'73'\": 24, \"u'186'\": 25, \"u'18'\": 26, \"u'91'\": 27, \"u'79'\": 28, \"u'175'\": 29, \"u'131'\": 30, \"u'70'\": 31, \"u'59'\": 32, \"u'205'\": 33, \"u'110'\": 34, \"u'133'\": 35, \"u'87'\": 36, \"u'78'\": 37, \"u'97'\": 38, \"u'218'\": 39, \"u'128'\": 40, \"u'122'\": 41, \"u'61'\": 42, \"u'99'\": 43, \"u'204'\": 44, \"u'115'\": 45, \"u'180'\": 46, \"u'190'\": 47, \"u'88'\": 48, \"u'151'\": 49, \"u'226'\": 50, \"u'15'\": 51, \"u'100'\": 52, \"u'189'\": 53, \"u'116'\": 54, \"u'154'\": 55, \"u'212'\": 56, \"u'142'\": 57, \"u'166'\": 58, \"u'170'\": 59, \"u'193'\": 60, \"u'144'\": 61, \"u'74'\": 62, \"u'135'\": 63, \"u'224'\": 64, \"u'181'\": 65, \"u'143'\": 66, \"u'95'\": 67, \"u'183'\": 68, \"u'32'\": 69, \"u'155'\": 70, \"u'52'\": 71, \"u'101'\": 72, \"u'165'\": 73, \"u'2'\": 74, \"u'7'\": 75, \"u'63'\": 76, \"u'51'\": 77, \"u'103'\": 78, \"u'114'\": 79, \"u'117'\": 80, \"u'167'\": 81, \"u'14'\": 82, \"u'55'\": 83, \"u'158'\": 84, \"u'38'\": 85, \"u'47'\": 86, \"u'65'\": 87, \"u'69'\": 88, \"u'150'\": 89, \"u'159'\": 90, \"u'217'\": 91, \"u'132'\": 92, \"u'225'\": 93, \"u'178'\": 94, \"u'72'\": 95, \"u'92'\": 96, \"u'37'\": 97, \"u'13'\": 98, \"u'9'\": 99, \"u'39'\": 100, \"u'42'\": 101, \"u'210'\": 102, \"u'136'\": 103, \"u'28'\": 104, \"u'48'\": 105, \"u'89'\": 106, \"u'203'\": 107, \"u'40'\": 108, \"u'25'\": 109, \"u'26'\": 110, \"u'56'\": 111, \"u'77'\": 112, \"u'220'\": 113, \"u'200'\": 114, \"u'140'\": 115, \"u'75'\": 116, \"u'111'\": 117, \"u'82'\": 118, \"u'126'\": 119, \"u'216'\": 120, \"u'197'\": 121, \"u'11'\": 122, \"u'64'\": 123, \"u'35'\": 124, \"u'169'\": 125, \"u'188'\": 126, \"u'102'\": 127, \"u'121'\": 128, \"u'71'\": 129, \"u'168'\": 130, \"u'147'\": 131, \"u'43'\": 132, \"u'81'\": 133, \"u'54'\": 134, \"u'196'\": 135, \"u'209'\": 136, \"u'141'\": 137, \"u'201'\": 138, \"u'109'\": 139, \"u'228'\": 140, \"u'10'\": 141, \"u'45'\": 142, \"u'139'\": 143, \"u'127'\": 144, \"u'187'\": 145, \"u'177'\": 146, \"u'130'\": 147, \"u'27'\": 148, \"u'120'\": 149, \"u'30'\": 150, \"u'96'\": 151, \"u'4'\": 152, \"u'119'\": 153, \"u'6'\": 154, \"u'118'\": 155, \"u'22'\": 156, \"u'185'\": 157, \"u'213'\": 158, \"u'182'\": 159, \"u'93'\": 160, \"u'5'\": 161, \"u'227'\": 162, \"u'57'\": 163, \"u'21'\": 164, \"u'80'\": 165, \"u'211'\": 166, \"u'123'\": 167, \"u'8'\": 168, \"u'90'\": 169, \"u'31'\": 170, \"u'67'\": 171, \"u'60'\": 172, \"u'134'\": 173, \"u'195'\": 174, \"u'149'\": 175, \"u'33'\": 176, \"u'112'\": 177, \"u'160'\": 178, \"u'206'\": 179, \"u'29'\": 180, \"u'58'\": 181, \"u'50'\": 182, \"u'12'\": 183, \"u'192'\": 184, \"u'152'\": 185, \"u'85'\": 186, \"u'202'\": 187, \"u'3'\": 188, \"u'125'\": 189, \"u'198'\": 190, \"u'23'\": 191, \"u'34'\": 192, \"u'219'\": 193, \"u'173'\": 194, \"u'68'\": 195, \"u'24'\": 196, \"u'174'\": 197, \"u'83'\": 198, \"u'172'\": 199, \"u'199'\": 200, \"u'146'\": 201, \"u'104'\": 202, \"u'223'\": 203, \"u'124'\": 204, \"u'86'\": 205, \"u'179'\": 206, \"u'76'\": 207, \"u'208'\": 208, \"u'161'\": 209, \"u'157'\": 210, \"u'129'\": 211, \"u'191'\": 212, \"u'215'\": 213, \"u'207'\": 214, \"u'221'\": 215, \"u'108'\": 216, \"u'41'\": 217, \"u'1'\": 218, \"u'84'\": 219, \"u'162'\": 220, \"u'107'\": 221, \"u'46'\": 222, \"u'16'\": 223, \"u'94'\": 224}\n"
          ],
          "name": "stdout"
        }
      ]
    },
    {
      "cell_type": "code",
      "metadata": {
        "id": "F1mdJF0S4tbP",
        "colab_type": "code",
        "colab": {}
      },
      "source": [
        "Y=np.array(labels[0])\n",
        "for i in range(1,14720):\n",
        "  Y=np.vstack((Y,labels[i]))\n",
        "Y=np.array(Y)"
      ],
      "execution_count": 0,
      "outputs": []
    },
    {
      "cell_type": "code",
      "metadata": {
        "id": "dLb6mUYX1j7r",
        "colab_type": "code",
        "outputId": "1dda0324-fc3e-4193-b727-57db4fa48f66",
        "colab": {
          "base_uri": "https://localhost:8080/",
          "height": 55
        }
      },
      "source": [
        "#preprocessing validation set:\n",
        "validation=pd.read_csv('/content/Image_1/Input/validation_labels.csv')\n",
        "Y_val=validation['labels']\n",
        "tokenizer = Tokenizer(filters=',[]')\n",
        "tokenizer.fit_on_texts(Y_val)\n",
        "label_seq = tokenizer.texts_to_sequences(Y_val)\n",
        "label_length=len(tokenizer.word_index)+1\n",
        "print(tokenizer.word_index)\n",
        "Y_val=[np_utils.to_categorical(Y_val,num_classes=label_length,dtype='float32').sum(axis=0)[1:] for Y_val in label_seq]\n",
        "val=np.array(Y_val[0])\n",
        "for i in range(1,3000):\n",
        "  val=np.vstack((val,Y_val[i]))\n",
        "Y_val=np.array(val)  "
      ],
      "execution_count": 0,
      "outputs": [
        {
          "output_type": "stream",
          "text": [
            "{\"u'66'\": 1, \"u'17'\": 2, \"u'105'\": 3, \"u'222'\": 4, \"u'153'\": 5, \"u'171'\": 6, \"u'184'\": 7, \"u'53'\": 8, \"u'137'\": 9, \"u'20'\": 10, \"u'106'\": 11, \"u'164'\": 12, \"u'19'\": 13, \"u'111'\": 14, \"u'78'\": 15, \"u'49'\": 16, \"u'138'\": 17, \"u'214'\": 18, \"u'148'\": 19, \"u'98'\": 20, \"u'176'\": 21, \"u'44'\": 22, \"u'62'\": 23, \"u'175'\": 24, \"u'131'\": 25, \"u'45'\": 26, \"u'36'\": 27, \"u'59'\": 28, \"u'190'\": 29, \"u'210'\": 30, \"u'18'\": 31, \"u'14'\": 32, \"u'79'\": 33, \"u'70'\": 34, \"u'181'\": 35, \"u'87'\": 36, \"u'115'\": 37, \"u'226'\": 38, \"u'147'\": 39, \"u'133'\": 40, \"u'91'\": 41, \"u'100'\": 42, \"u'186'\": 43, \"u'205'\": 44, \"u'110'\": 45, \"u'209'\": 46, \"u'47'\": 47, \"u'204'\": 48, \"u'99'\": 49, \"u'97'\": 50, \"u'113'\": 51, \"u'15'\": 52, \"u'9'\": 53, \"u'224'\": 54, \"u'151'\": 55, \"u'154'\": 56, \"u'128'\": 57, \"u'180'\": 58, \"u'88'\": 59, \"u'5'\": 60, \"u'194'\": 61, \"u'142'\": 62, \"u'135'\": 63, \"u'73'\": 64, \"u'141'\": 65, \"u'193'\": 66, \"u'192'\": 67, \"u'203'\": 68, \"u'189'\": 69, \"u'101'\": 70, \"u'122'\": 71, \"u'2'\": 72, \"u'85'\": 73, \"u'155'\": 74, \"u'170'\": 75, \"u'32'\": 76, \"u'25'\": 77, \"u'116'\": 78, \"u'108'\": 79, \"u'7'\": 80, \"u'212'\": 81, \"u'217'\": 82, \"u'178'\": 83, \"u'117'\": 84, \"u'95'\": 85, \"u'158'\": 86, \"u'103'\": 87, \"u'38'\": 88, \"u'126'\": 89, \"u'225'\": 90, \"u'10'\": 91, \"u'191'\": 92, \"u'150'\": 93, \"u'143'\": 94, \"u'51'\": 95, \"u'159'\": 96, \"u'26'\": 97, \"u'41'\": 98, \"u'55'\": 99, \"u'75'\": 100, \"u'65'\": 101, \"u'114'\": 102, \"u'132'\": 103, \"u'183'\": 104, \"u'40'\": 105, \"u'61'\": 106, \"u'165'\": 107, \"u'92'\": 108, \"u'52'\": 109, \"u'56'\": 110, \"u'144'\": 111, \"u'72'\": 112, \"u'54'\": 113, \"u'77'\": 114, \"u'125'\": 115, \"u'48'\": 116, \"u'136'\": 117, \"u'74'\": 118, \"u'218'\": 119, \"u'207'\": 120, \"u'168'\": 121, \"u'37'\": 122, \"u'167'\": 123, \"u'24'\": 124, \"u'119'\": 125, \"u'166'\": 126, \"u'102'\": 127, \"u'130'\": 128, \"u'28'\": 129, \"u'200'\": 130, \"u'35'\": 131, \"u'43'\": 132, \"u'63'\": 133, \"u'76'\": 134, \"u'30'\": 135, \"u'169'\": 136, \"u'71'\": 137, \"u'208'\": 138, \"u'220'\": 139, \"u'216'\": 140, \"u'69'\": 141, \"u'89'\": 142, \"u'127'\": 143, \"u'201'\": 144, \"u'21'\": 145, \"u'42'\": 146, \"u'13'\": 147, \"u'4'\": 148, \"u'11'\": 149, \"u'160'\": 150, \"u'188'\": 151, \"u'199'\": 152, \"u'124'\": 153, \"u'57'\": 154, \"u'12'\": 155, \"u'81'\": 156, \"u'197'\": 157, \"u'1'\": 158, \"u'31'\": 159, \"u'118'\": 160, \"u'121'\": 161, \"u'228'\": 162, \"u'64'\": 163, \"u'120'\": 164, \"u'90'\": 165, \"u'196'\": 166, \"u'82'\": 167, \"u'177'\": 168, \"u'39'\": 169, \"u'29'\": 170, \"u'22'\": 171, \"u'67'\": 172, \"u'109'\": 173, \"u'123'\": 174, \"u'140'\": 175, \"u'215'\": 176, \"u'182'\": 177, \"u'172'\": 178, \"u'112'\": 179, \"u'6'\": 180, \"u'139'\": 181, \"u'93'\": 182, \"u'60'\": 183, \"u'33'\": 184, \"u'173'\": 185, \"u'187'\": 186, \"u'80'\": 187, \"u'219'\": 188, \"u'23'\": 189, \"u'58'\": 190, \"u'211'\": 191, \"u'84'\": 192, \"u'134'\": 193, \"u'213'\": 194, \"u'27'\": 195, \"u'227'\": 196, \"u'34'\": 197, \"u'185'\": 198, \"u'8'\": 199, \"u'94'\": 200, \"u'145'\": 201, \"u'50'\": 202, \"u'152'\": 203, \"u'221'\": 204, \"u'202'\": 205, \"u'3'\": 206, \"u'156'\": 207, \"u'129'\": 208, \"u'179'\": 209, \"u'163'\": 210, \"u'107'\": 211, \"u'157'\": 212, \"u'198'\": 213, \"u'174'\": 214, \"u'104'\": 215, \"u'206'\": 216, \"u'146'\": 217, \"u'86'\": 218, \"u'149'\": 219, \"u'223'\": 220, \"u'68'\": 221, \"u'83'\": 222, \"u'195'\": 223}\n"
          ],
          "name": "stdout"
        }
      ]
    },
    {
      "cell_type": "code",
      "metadata": {
        "id": "Q4xCjO6czkEp",
        "colab_type": "code",
        "outputId": "d7c09eac-11cd-45c8-c363-e18fc86f6aec",
        "colab": {
          "base_uri": "https://localhost:8080/",
          "height": 35
        }
      },
      "source": [
        "z = np.zeros((3000,1))\n",
        "Y_val=np.append(Y_val, z, axis=1)\n",
        "Y_val.shape"
      ],
      "execution_count": 0,
      "outputs": [
        {
          "output_type": "execute_result",
          "data": {
            "text/plain": [
              "(3000, 224)"
            ]
          },
          "metadata": {
            "tags": []
          },
          "execution_count": 7
        }
      ]
    },
    {
      "cell_type": "code",
      "metadata": {
        "id": "fRtbPiWzJ85h",
        "colab_type": "code",
        "colab": {}
      },
      "source": [
        ""
      ],
      "execution_count": 0,
      "outputs": []
    },
    {
      "cell_type": "code",
      "metadata": {
        "id": "KpEFTokuPiCr",
        "colab_type": "code",
        "outputId": "de5bfcfa-bc3e-43dd-9205-6c36bcf6f01b",
        "colab": {
          "base_uri": "https://localhost:8080/",
          "height": 35
        }
      },
      "source": [
        "# loading the training images:\n",
        "from keras.preprocessing import image\n",
        "import tqdm\n",
        "train_image = []\n",
        "for i in tqdm.tqdm(range(train.shape[0])):\n",
        "    img = image.load_img('/content/Data/train/'+str(train['imageId'][i])+'.jpg',target_size=(100,100,3))\n",
        "    img = image.img_to_array(img)\n",
        "    img = img/255\n",
        "    train_image.append(img)\n",
        "X = np.array(train_image)"
      ],
      "execution_count": 0,
      "outputs": [
        {
          "output_type": "stream",
          "text": [
            "100%|██████████| 14720/14720 [01:07<00:00, 217.66it/s]\n"
          ],
          "name": "stderr"
        }
      ]
    },
    {
      "cell_type": "code",
      "metadata": {
        "id": "y87fTzGx5V40",
        "colab_type": "code",
        "outputId": "6580df21-2900-45bf-8dd9-521464cad935",
        "colab": {
          "base_uri": "https://localhost:8080/",
          "height": 35
        }
      },
      "source": [
        "#loading Validation Images:\n",
        "val_image = []\n",
        "for i in tqdm.tqdm(range(validation.shape[0])):\n",
        "    img = image.load_img('/content/Data/validation/'+str(validation['imageId'][i])+'.jpg',target_size=(100,100,3))\n",
        "    img = image.img_to_array(img)\n",
        "    img = img/255\n",
        "    val_image.append(img)\n",
        "X_val = np.array(val_image)"
      ],
      "execution_count": 0,
      "outputs": [
        {
          "output_type": "stream",
          "text": [
            "100%|██████████| 3000/3000 [00:13<00:00, 219.43it/s]\n"
          ],
          "name": "stderr"
        }
      ]
    },
    {
      "cell_type": "code",
      "metadata": {
        "colab_type": "code",
        "outputId": "b73b14e3-7c32-4fbd-af13-eeca72858fe3",
        "id": "1pixDaE1bAS7",
        "colab": {
          "base_uri": "https://localhost:8080/",
          "height": 469
        }
      },
      "source": [
        "import keras\n",
        "from keras.models import Sequential\n",
        "from keras_preprocessing.image import ImageDataGenerator\n",
        "from keras.layers import Dense, Activation, Flatten, Dropout, BatchNormalization\n",
        "from keras.layers import Conv2D, MaxPooling2D\n",
        "from keras import regularizers, optimizers\n",
        "from keras_preprocessing.image import ImageDataGenerator\n",
        "from keras.layers import Dense, Activation, Flatten, Dropout, BatchNormalization\n",
        "from keras.layers import Conv2D, MaxPooling2D\n",
        "from keras import regularizers, optimizers\n",
        "\n",
        "model = Sequential()\n",
        "model.add(Conv2D(32, (3, 3), padding='same',\n",
        "                 input_shape=(100,100,3)))\n",
        "model.add(Activation(keras.layers.ELU()))\n",
        "model.add(Conv2D(32, (3, 3)))\n",
        "model.add(Activation(keras.layers.ELU(alpha=1.0)))\n",
        "model.add(MaxPooling2D(pool_size=(2, 2)))\n",
        "model.add(Dropout(0.25))\n",
        "model.add(Conv2D(64, (3, 3), padding='same'))\n",
        "model.add(Activation(keras.layers.ELU(alpha=1.0)))\n",
        "model.add(Conv2D(64, (3, 3)))\n",
        "model.add(Activation(keras.layers.ELU(alpha=1.0)))\n",
        "model.add(Conv2D(64, (3, 3)))\n",
        "model.add(Activation(keras.layers.ELU(alpha=1.0)))\n",
        "model.add(MaxPooling2D(pool_size=(2, 2)))\n",
        "model.add(Dropout(0.25))\n",
        "model.add(Flatten())\n",
        "model.add(Dense(512))\n",
        "model.add(Activation(keras.layers.ELU(alpha=1.0)))\n",
        "model.add(Dropout(0.5))\n",
        "model.add(Dense(224, activation='sigmoid'))\n",
        "model.compile(optimizers.rmsprop(lr=0.0001, decay=1e-6),loss=\"binary_crossentropy\",metrics=[\"accuracy\"])\n",
        "model.fit(X,Y, validation_data=(X_val,Y_val),epochs=15,batch_size=32)"
      ],
      "execution_count": 0,
      "outputs": [
        {
          "output_type": "stream",
          "text": [
            "/usr/local/lib/python3.6/dist-packages/keras/activations.py:211: UserWarning: Do not pass a layer instance (such as ELU) as the activation argument of another layer. Instead, advanced activation layers should be used just like any other layer in a model.\n",
            "  identifier=identifier.__class__.__name__))\n"
          ],
          "name": "stderr"
        },
        {
          "output_type": "stream",
          "text": [
            "Train on 14720 samples, validate on 3000 samples\n",
            "Epoch 1/15\n",
            "   96/14720 [..............................] - ETA: 10:44 - loss: 0.5143 - acc: 0.7221"
          ],
          "name": "stdout"
        },
        {
          "output_type": "error",
          "ename": "KeyboardInterrupt",
          "evalue": "ignored",
          "traceback": [
            "\u001b[0;31m---------------------------------------------------------------------------\u001b[0m",
            "\u001b[0;31mKeyboardInterrupt\u001b[0m                         Traceback (most recent call last)",
            "\u001b[0;32m<ipython-input-18-2e6d296af62c>\u001b[0m in \u001b[0;36m<module>\u001b[0;34m()\u001b[0m\n\u001b[1;32m     32\u001b[0m \u001b[0mmodel\u001b[0m\u001b[0;34m.\u001b[0m\u001b[0madd\u001b[0m\u001b[0;34m(\u001b[0m\u001b[0mDense\u001b[0m\u001b[0;34m(\u001b[0m\u001b[0;36m224\u001b[0m\u001b[0;34m,\u001b[0m \u001b[0mactivation\u001b[0m\u001b[0;34m=\u001b[0m\u001b[0;34m'sigmoid'\u001b[0m\u001b[0;34m)\u001b[0m\u001b[0;34m)\u001b[0m\u001b[0;34m\u001b[0m\u001b[0;34m\u001b[0m\u001b[0m\n\u001b[1;32m     33\u001b[0m \u001b[0mmodel\u001b[0m\u001b[0;34m.\u001b[0m\u001b[0mcompile\u001b[0m\u001b[0;34m(\u001b[0m\u001b[0moptimizers\u001b[0m\u001b[0;34m.\u001b[0m\u001b[0mrmsprop\u001b[0m\u001b[0;34m(\u001b[0m\u001b[0mlr\u001b[0m\u001b[0;34m=\u001b[0m\u001b[0;36m0.0001\u001b[0m\u001b[0;34m,\u001b[0m \u001b[0mdecay\u001b[0m\u001b[0;34m=\u001b[0m\u001b[0;36m1e-6\u001b[0m\u001b[0;34m)\u001b[0m\u001b[0;34m,\u001b[0m\u001b[0mloss\u001b[0m\u001b[0;34m=\u001b[0m\u001b[0;34m\"binary_crossentropy\"\u001b[0m\u001b[0;34m,\u001b[0m\u001b[0mmetrics\u001b[0m\u001b[0;34m=\u001b[0m\u001b[0;34m[\u001b[0m\u001b[0;34m\"accuracy\"\u001b[0m\u001b[0;34m]\u001b[0m\u001b[0;34m)\u001b[0m\u001b[0;34m\u001b[0m\u001b[0;34m\u001b[0m\u001b[0m\n\u001b[0;32m---> 34\u001b[0;31m \u001b[0mmodel\u001b[0m\u001b[0;34m.\u001b[0m\u001b[0mfit\u001b[0m\u001b[0;34m(\u001b[0m\u001b[0mX\u001b[0m\u001b[0;34m,\u001b[0m\u001b[0mY\u001b[0m\u001b[0;34m,\u001b[0m \u001b[0mvalidation_data\u001b[0m\u001b[0;34m=\u001b[0m\u001b[0;34m(\u001b[0m\u001b[0mX_val\u001b[0m\u001b[0;34m,\u001b[0m\u001b[0mY_val\u001b[0m\u001b[0;34m)\u001b[0m\u001b[0;34m,\u001b[0m\u001b[0mepochs\u001b[0m\u001b[0;34m=\u001b[0m\u001b[0;36m15\u001b[0m\u001b[0;34m,\u001b[0m\u001b[0mbatch_size\u001b[0m\u001b[0;34m=\u001b[0m\u001b[0;36m32\u001b[0m\u001b[0;34m)\u001b[0m\u001b[0;34m\u001b[0m\u001b[0;34m\u001b[0m\u001b[0m\n\u001b[0m",
            "\u001b[0;32m/usr/local/lib/python3.6/dist-packages/keras/engine/training.py\u001b[0m in \u001b[0;36mfit\u001b[0;34m(self, x, y, batch_size, epochs, verbose, callbacks, validation_split, validation_data, shuffle, class_weight, sample_weight, initial_epoch, steps_per_epoch, validation_steps, **kwargs)\u001b[0m\n\u001b[1;32m   1037\u001b[0m                                         \u001b[0minitial_epoch\u001b[0m\u001b[0;34m=\u001b[0m\u001b[0minitial_epoch\u001b[0m\u001b[0;34m,\u001b[0m\u001b[0;34m\u001b[0m\u001b[0;34m\u001b[0m\u001b[0m\n\u001b[1;32m   1038\u001b[0m                                         \u001b[0msteps_per_epoch\u001b[0m\u001b[0;34m=\u001b[0m\u001b[0msteps_per_epoch\u001b[0m\u001b[0;34m,\u001b[0m\u001b[0;34m\u001b[0m\u001b[0;34m\u001b[0m\u001b[0m\n\u001b[0;32m-> 1039\u001b[0;31m                                         validation_steps=validation_steps)\n\u001b[0m\u001b[1;32m   1040\u001b[0m \u001b[0;34m\u001b[0m\u001b[0m\n\u001b[1;32m   1041\u001b[0m     def evaluate(self, x=None, y=None,\n",
            "\u001b[0;32m/usr/local/lib/python3.6/dist-packages/keras/engine/training_arrays.py\u001b[0m in \u001b[0;36mfit_loop\u001b[0;34m(model, f, ins, out_labels, batch_size, epochs, verbose, callbacks, val_f, val_ins, shuffle, callback_metrics, initial_epoch, steps_per_epoch, validation_steps)\u001b[0m\n\u001b[1;32m    197\u001b[0m                     \u001b[0mins_batch\u001b[0m\u001b[0;34m[\u001b[0m\u001b[0mi\u001b[0m\u001b[0;34m]\u001b[0m \u001b[0;34m=\u001b[0m \u001b[0mins_batch\u001b[0m\u001b[0;34m[\u001b[0m\u001b[0mi\u001b[0m\u001b[0;34m]\u001b[0m\u001b[0;34m.\u001b[0m\u001b[0mtoarray\u001b[0m\u001b[0;34m(\u001b[0m\u001b[0;34m)\u001b[0m\u001b[0;34m\u001b[0m\u001b[0;34m\u001b[0m\u001b[0m\n\u001b[1;32m    198\u001b[0m \u001b[0;34m\u001b[0m\u001b[0m\n\u001b[0;32m--> 199\u001b[0;31m                 \u001b[0mouts\u001b[0m \u001b[0;34m=\u001b[0m \u001b[0mf\u001b[0m\u001b[0;34m(\u001b[0m\u001b[0mins_batch\u001b[0m\u001b[0;34m)\u001b[0m\u001b[0;34m\u001b[0m\u001b[0;34m\u001b[0m\u001b[0m\n\u001b[0m\u001b[1;32m    200\u001b[0m                 \u001b[0mouts\u001b[0m \u001b[0;34m=\u001b[0m \u001b[0mto_list\u001b[0m\u001b[0;34m(\u001b[0m\u001b[0mouts\u001b[0m\u001b[0;34m)\u001b[0m\u001b[0;34m\u001b[0m\u001b[0;34m\u001b[0m\u001b[0m\n\u001b[1;32m    201\u001b[0m                 \u001b[0;32mfor\u001b[0m \u001b[0ml\u001b[0m\u001b[0;34m,\u001b[0m \u001b[0mo\u001b[0m \u001b[0;32min\u001b[0m \u001b[0mzip\u001b[0m\u001b[0;34m(\u001b[0m\u001b[0mout_labels\u001b[0m\u001b[0;34m,\u001b[0m \u001b[0mouts\u001b[0m\u001b[0;34m)\u001b[0m\u001b[0;34m:\u001b[0m\u001b[0;34m\u001b[0m\u001b[0;34m\u001b[0m\u001b[0m\n",
            "\u001b[0;32m/usr/local/lib/python3.6/dist-packages/keras/backend/tensorflow_backend.py\u001b[0m in \u001b[0;36m__call__\u001b[0;34m(self, inputs)\u001b[0m\n\u001b[1;32m   2713\u001b[0m                 \u001b[0;32mreturn\u001b[0m \u001b[0mself\u001b[0m\u001b[0;34m.\u001b[0m\u001b[0m_legacy_call\u001b[0m\u001b[0;34m(\u001b[0m\u001b[0minputs\u001b[0m\u001b[0;34m)\u001b[0m\u001b[0;34m\u001b[0m\u001b[0;34m\u001b[0m\u001b[0m\n\u001b[1;32m   2714\u001b[0m \u001b[0;34m\u001b[0m\u001b[0m\n\u001b[0;32m-> 2715\u001b[0;31m             \u001b[0;32mreturn\u001b[0m \u001b[0mself\u001b[0m\u001b[0;34m.\u001b[0m\u001b[0m_call\u001b[0m\u001b[0;34m(\u001b[0m\u001b[0minputs\u001b[0m\u001b[0;34m)\u001b[0m\u001b[0;34m\u001b[0m\u001b[0;34m\u001b[0m\u001b[0m\n\u001b[0m\u001b[1;32m   2716\u001b[0m         \u001b[0;32melse\u001b[0m\u001b[0;34m:\u001b[0m\u001b[0;34m\u001b[0m\u001b[0;34m\u001b[0m\u001b[0m\n\u001b[1;32m   2717\u001b[0m             \u001b[0;32mif\u001b[0m \u001b[0mpy_any\u001b[0m\u001b[0;34m(\u001b[0m\u001b[0mis_tensor\u001b[0m\u001b[0;34m(\u001b[0m\u001b[0mx\u001b[0m\u001b[0;34m)\u001b[0m \u001b[0;32mfor\u001b[0m \u001b[0mx\u001b[0m \u001b[0;32min\u001b[0m \u001b[0minputs\u001b[0m\u001b[0;34m)\u001b[0m\u001b[0;34m:\u001b[0m\u001b[0;34m\u001b[0m\u001b[0;34m\u001b[0m\u001b[0m\n",
            "\u001b[0;32m/usr/local/lib/python3.6/dist-packages/keras/backend/tensorflow_backend.py\u001b[0m in \u001b[0;36m_call\u001b[0;34m(self, inputs)\u001b[0m\n\u001b[1;32m   2673\u001b[0m             \u001b[0mfetched\u001b[0m \u001b[0;34m=\u001b[0m \u001b[0mself\u001b[0m\u001b[0;34m.\u001b[0m\u001b[0m_callable_fn\u001b[0m\u001b[0;34m(\u001b[0m\u001b[0;34m*\u001b[0m\u001b[0marray_vals\u001b[0m\u001b[0;34m,\u001b[0m \u001b[0mrun_metadata\u001b[0m\u001b[0;34m=\u001b[0m\u001b[0mself\u001b[0m\u001b[0;34m.\u001b[0m\u001b[0mrun_metadata\u001b[0m\u001b[0;34m)\u001b[0m\u001b[0;34m\u001b[0m\u001b[0;34m\u001b[0m\u001b[0m\n\u001b[1;32m   2674\u001b[0m         \u001b[0;32melse\u001b[0m\u001b[0;34m:\u001b[0m\u001b[0;34m\u001b[0m\u001b[0;34m\u001b[0m\u001b[0m\n\u001b[0;32m-> 2675\u001b[0;31m             \u001b[0mfetched\u001b[0m \u001b[0;34m=\u001b[0m \u001b[0mself\u001b[0m\u001b[0;34m.\u001b[0m\u001b[0m_callable_fn\u001b[0m\u001b[0;34m(\u001b[0m\u001b[0;34m*\u001b[0m\u001b[0marray_vals\u001b[0m\u001b[0;34m)\u001b[0m\u001b[0;34m\u001b[0m\u001b[0;34m\u001b[0m\u001b[0m\n\u001b[0m\u001b[1;32m   2676\u001b[0m         \u001b[0;32mreturn\u001b[0m \u001b[0mfetched\u001b[0m\u001b[0;34m[\u001b[0m\u001b[0;34m:\u001b[0m\u001b[0mlen\u001b[0m\u001b[0;34m(\u001b[0m\u001b[0mself\u001b[0m\u001b[0;34m.\u001b[0m\u001b[0moutputs\u001b[0m\u001b[0;34m)\u001b[0m\u001b[0;34m]\u001b[0m\u001b[0;34m\u001b[0m\u001b[0;34m\u001b[0m\u001b[0m\n\u001b[1;32m   2677\u001b[0m \u001b[0;34m\u001b[0m\u001b[0m\n",
            "\u001b[0;32m/usr/local/lib/python3.6/dist-packages/tensorflow/python/client/session.py\u001b[0m in \u001b[0;36m__call__\u001b[0;34m(self, *args, **kwargs)\u001b[0m\n\u001b[1;32m   1456\u001b[0m         ret = tf_session.TF_SessionRunCallable(self._session._session,\n\u001b[1;32m   1457\u001b[0m                                                \u001b[0mself\u001b[0m\u001b[0;34m.\u001b[0m\u001b[0m_handle\u001b[0m\u001b[0;34m,\u001b[0m \u001b[0margs\u001b[0m\u001b[0;34m,\u001b[0m\u001b[0;34m\u001b[0m\u001b[0;34m\u001b[0m\u001b[0m\n\u001b[0;32m-> 1458\u001b[0;31m                                                run_metadata_ptr)\n\u001b[0m\u001b[1;32m   1459\u001b[0m         \u001b[0;32mif\u001b[0m \u001b[0mrun_metadata\u001b[0m\u001b[0;34m:\u001b[0m\u001b[0;34m\u001b[0m\u001b[0;34m\u001b[0m\u001b[0m\n\u001b[1;32m   1460\u001b[0m           \u001b[0mproto_data\u001b[0m \u001b[0;34m=\u001b[0m \u001b[0mtf_session\u001b[0m\u001b[0;34m.\u001b[0m\u001b[0mTF_GetBuffer\u001b[0m\u001b[0;34m(\u001b[0m\u001b[0mrun_metadata_ptr\u001b[0m\u001b[0;34m)\u001b[0m\u001b[0;34m\u001b[0m\u001b[0;34m\u001b[0m\u001b[0m\n",
            "\u001b[0;31mKeyboardInterrupt\u001b[0m: "
          ]
        }
      ]
    },
    {
      "cell_type": "code",
      "metadata": {
        "colab_type": "code",
        "id": "CEBv8VHua-9l",
        "colab": {}
      },
      "source": [
        "\n"
      ],
      "execution_count": 0,
      "outputs": []
    },
    {
      "cell_type": "code",
      "metadata": {
        "id": "pyv6LTo6eBQy",
        "colab_type": "code",
        "colab": {}
      },
      "source": [
        ""
      ],
      "execution_count": 0,
      "outputs": []
    },
    {
      "cell_type": "code",
      "metadata": {
        "id": "sgK3pOtceBRc",
        "colab_type": "code",
        "colab": {}
      },
      "source": [
        ""
      ],
      "execution_count": 0,
      "outputs": []
    },
    {
      "cell_type": "code",
      "metadata": {
        "id": "OKaN4gH8eBR2",
        "colab_type": "code",
        "colab": {}
      },
      "source": [
        ""
      ],
      "execution_count": 0,
      "outputs": []
    },
    {
      "cell_type": "code",
      "metadata": {
        "id": "qUNOnCVin4U4",
        "colab_type": "code",
        "colab": {}
      },
      "source": [
        ""
      ],
      "execution_count": 0,
      "outputs": []
    }
  ]
}